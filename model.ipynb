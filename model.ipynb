{
 "cells": [
  {
   "cell_type": "markdown",
   "metadata": {},
   "source": [
    "# Modeling with Time Series Analysis\n",
    "# Using saas.csv or log data from API usage or store_item_sales"
   ]
  },
  {
   "cell_type": "code",
   "execution_count": 6,
   "metadata": {},
   "outputs": [],
   "source": [
    "import Prepare\n",
    "\n",
    "import numpy as np\n",
    "import pandas as pd\n",
    "\n",
    "from datetime import datetime\n",
    "from sklearn.metrics import mean_squared_error\n",
    "from math import sqrt\n",
    "\n",
    "import matplotlib.pyplot as plt\n",
    "%matplotlib inline\n",
    "import seaborn as sns\n",
    "from pandas.plotting import register_matplotlib_converters\n",
    "\n",
    "import statsmodels.api as sm\n",
    "from statsmodels.tsa.api import Holt\n",
    "\n",
    "import warnings\n",
    "warnings.filterwarnings(\"ignore\")"
   ]
  },
  {
   "cell_type": "code",
   "execution_count": 7,
   "metadata": {},
   "outputs": [],
   "source": [
    "df = pd.read_csv('sales_joined_df.csv', index_col=0)"
   ]
  },
  {
   "cell_type": "code",
   "execution_count": 8,
   "metadata": {},
   "outputs": [],
   "source": [
    "df = Prepare.set_index(df, 'sale_date')"
   ]
  },
  {
   "cell_type": "code",
   "execution_count": 9,
   "metadata": {},
   "outputs": [
    {
     "data": {
      "text/html": [
       "<div>\n",
       "<style scoped>\n",
       "    .dataframe tbody tr th:only-of-type {\n",
       "        vertical-align: middle;\n",
       "    }\n",
       "\n",
       "    .dataframe tbody tr th {\n",
       "        vertical-align: top;\n",
       "    }\n",
       "\n",
       "    .dataframe thead th {\n",
       "        text-align: right;\n",
       "    }\n",
       "</style>\n",
       "<table border=\"1\" class=\"dataframe\">\n",
       "  <thead>\n",
       "    <tr style=\"text-align: right;\">\n",
       "      <th></th>\n",
       "      <th>sale_amount</th>\n",
       "      <th>sale_id</th>\n",
       "      <th>store_address</th>\n",
       "      <th>store_city</th>\n",
       "      <th>store_id</th>\n",
       "      <th>store_state</th>\n",
       "      <th>store_zipcode</th>\n",
       "      <th>item_brand</th>\n",
       "      <th>item_id</th>\n",
       "      <th>item_name</th>\n",
       "      <th>item_price</th>\n",
       "      <th>item_upc12</th>\n",
       "      <th>item_upc14</th>\n",
       "    </tr>\n",
       "    <tr>\n",
       "      <th>sale_date</th>\n",
       "      <th></th>\n",
       "      <th></th>\n",
       "      <th></th>\n",
       "      <th></th>\n",
       "      <th></th>\n",
       "      <th></th>\n",
       "      <th></th>\n",
       "      <th></th>\n",
       "      <th></th>\n",
       "      <th></th>\n",
       "      <th></th>\n",
       "      <th></th>\n",
       "      <th></th>\n",
       "    </tr>\n",
       "  </thead>\n",
       "  <tbody>\n",
       "    <tr>\n",
       "      <th>2013-01-01 00:00:00+00:00</th>\n",
       "      <td>13.0</td>\n",
       "      <td>1</td>\n",
       "      <td>12125 Alamo Ranch Pkwy</td>\n",
       "      <td>San Antonio</td>\n",
       "      <td>1</td>\n",
       "      <td>TX</td>\n",
       "      <td>78253</td>\n",
       "      <td>Riceland</td>\n",
       "      <td>1</td>\n",
       "      <td>Riceland American Jazmine Rice</td>\n",
       "      <td>0.84</td>\n",
       "      <td>35200264013</td>\n",
       "      <td>35200264013</td>\n",
       "    </tr>\n",
       "    <tr>\n",
       "      <th>2013-01-01 00:00:00+00:00</th>\n",
       "      <td>14.0</td>\n",
       "      <td>118691</td>\n",
       "      <td>1015 S WW White Rd</td>\n",
       "      <td>San Antonio</td>\n",
       "      <td>6</td>\n",
       "      <td>TX</td>\n",
       "      <td>78220</td>\n",
       "      <td>Twinings Of London</td>\n",
       "      <td>7</td>\n",
       "      <td>Twinings Of London Classics Lady Grey Tea - 20 Ct</td>\n",
       "      <td>9.64</td>\n",
       "      <td>70177154004</td>\n",
       "      <td>70177154004</td>\n",
       "    </tr>\n",
       "    <tr>\n",
       "      <th>2013-01-01 00:00:00+00:00</th>\n",
       "      <td>29.0</td>\n",
       "      <td>350593</td>\n",
       "      <td>2118 Fredericksburg Rdj</td>\n",
       "      <td>San Antonio</td>\n",
       "      <td>3</td>\n",
       "      <td>TX</td>\n",
       "      <td>78201</td>\n",
       "      <td>Usda Produce</td>\n",
       "      <td>20</td>\n",
       "      <td>Plums Black</td>\n",
       "      <td>5.62</td>\n",
       "      <td>204040000000</td>\n",
       "      <td>204040000000</td>\n",
       "    </tr>\n",
       "    <tr>\n",
       "      <th>2013-01-01 00:00:00+00:00</th>\n",
       "      <td>21.0</td>\n",
       "      <td>116865</td>\n",
       "      <td>1520 Austin Hwy</td>\n",
       "      <td>San Antonio</td>\n",
       "      <td>5</td>\n",
       "      <td>TX</td>\n",
       "      <td>78218</td>\n",
       "      <td>Twinings Of London</td>\n",
       "      <td>7</td>\n",
       "      <td>Twinings Of London Classics Lady Grey Tea - 20 Ct</td>\n",
       "      <td>9.64</td>\n",
       "      <td>70177154004</td>\n",
       "      <td>70177154004</td>\n",
       "    </tr>\n",
       "    <tr>\n",
       "      <th>2013-01-01 00:00:00+00:00</th>\n",
       "      <td>26.0</td>\n",
       "      <td>115039</td>\n",
       "      <td>516 S Flores St</td>\n",
       "      <td>San Antonio</td>\n",
       "      <td>4</td>\n",
       "      <td>TX</td>\n",
       "      <td>78204</td>\n",
       "      <td>Twinings Of London</td>\n",
       "      <td>7</td>\n",
       "      <td>Twinings Of London Classics Lady Grey Tea - 20 Ct</td>\n",
       "      <td>9.64</td>\n",
       "      <td>70177154004</td>\n",
       "      <td>70177154004</td>\n",
       "    </tr>\n",
       "  </tbody>\n",
       "</table>\n",
       "</div>"
      ],
      "text/plain": [
       "                           sale_amount  sale_id            store_address  \\\n",
       "sale_date                                                                  \n",
       "2013-01-01 00:00:00+00:00         13.0        1   12125 Alamo Ranch Pkwy   \n",
       "2013-01-01 00:00:00+00:00         14.0   118691       1015 S WW White Rd   \n",
       "2013-01-01 00:00:00+00:00         29.0   350593  2118 Fredericksburg Rdj   \n",
       "2013-01-01 00:00:00+00:00         21.0   116865          1520 Austin Hwy   \n",
       "2013-01-01 00:00:00+00:00         26.0   115039          516 S Flores St   \n",
       "\n",
       "                            store_city  store_id store_state  store_zipcode  \\\n",
       "sale_date                                                                     \n",
       "2013-01-01 00:00:00+00:00  San Antonio         1          TX          78253   \n",
       "2013-01-01 00:00:00+00:00  San Antonio         6          TX          78220   \n",
       "2013-01-01 00:00:00+00:00  San Antonio         3          TX          78201   \n",
       "2013-01-01 00:00:00+00:00  San Antonio         5          TX          78218   \n",
       "2013-01-01 00:00:00+00:00  San Antonio         4          TX          78204   \n",
       "\n",
       "                                   item_brand  item_id  \\\n",
       "sale_date                                                \n",
       "2013-01-01 00:00:00+00:00            Riceland        1   \n",
       "2013-01-01 00:00:00+00:00  Twinings Of London        7   \n",
       "2013-01-01 00:00:00+00:00        Usda Produce       20   \n",
       "2013-01-01 00:00:00+00:00  Twinings Of London        7   \n",
       "2013-01-01 00:00:00+00:00  Twinings Of London        7   \n",
       "\n",
       "                                                                   item_name  \\\n",
       "sale_date                                                                      \n",
       "2013-01-01 00:00:00+00:00                     Riceland American Jazmine Rice   \n",
       "2013-01-01 00:00:00+00:00  Twinings Of London Classics Lady Grey Tea - 20 Ct   \n",
       "2013-01-01 00:00:00+00:00                                        Plums Black   \n",
       "2013-01-01 00:00:00+00:00  Twinings Of London Classics Lady Grey Tea - 20 Ct   \n",
       "2013-01-01 00:00:00+00:00  Twinings Of London Classics Lady Grey Tea - 20 Ct   \n",
       "\n",
       "                           item_price    item_upc12    item_upc14  \n",
       "sale_date                                                          \n",
       "2013-01-01 00:00:00+00:00        0.84   35200264013   35200264013  \n",
       "2013-01-01 00:00:00+00:00        9.64   70177154004   70177154004  \n",
       "2013-01-01 00:00:00+00:00        5.62  204040000000  204040000000  \n",
       "2013-01-01 00:00:00+00:00        9.64   70177154004   70177154004  \n",
       "2013-01-01 00:00:00+00:00        9.64   70177154004   70177154004  "
      ]
     },
     "execution_count": 9,
     "metadata": {},
     "output_type": "execute_result"
    }
   ],
   "source": [
    "df.head()"
   ]
  },
  {
   "cell_type": "markdown",
   "metadata": {},
   "source": [
    "## 1. Split data (train/test) and resample by any period, except daily, and aggregate using the sum."
   ]
  },
  {
   "cell_type": "code",
   "execution_count": 10,
   "metadata": {},
   "outputs": [
    {
     "name": "stdout",
     "output_type": "stream",
     "text": [
      "Index to split for 70/30 train/test: 255639\n"
     ]
    }
   ],
   "source": [
    "train_index = int(len(df) * .7)\n",
    "print(\"Index to split for 70/30 train/test:\",train_index)"
   ]
  },
  {
   "cell_type": "code",
   "execution_count": 11,
   "metadata": {},
   "outputs": [],
   "source": [
    "train = df[:train_index]\n",
    "test = df[train_index:]"
   ]
  },
  {
   "cell_type": "code",
   "execution_count": 12,
   "metadata": {},
   "outputs": [
    {
     "name": "stdout",
     "output_type": "stream",
     "text": [
      "Is train + test = df?\n",
      "True\n"
     ]
    }
   ],
   "source": [
    "print(\"Is train + test = df?\")\n",
    "print((len(train)+len(test))==len(df))"
   ]
  },
  {
   "cell_type": "code",
   "execution_count": 13,
   "metadata": {},
   "outputs": [
    {
     "data": {
      "text/plain": [
       "Text(0, 0.5, 'sale_amount')"
      ]
     },
     "execution_count": 13,
     "metadata": {},
     "output_type": "execute_result"
    },
    {
     "data": {
      "image/png": "[encoded data removed]",
      "text/plain": [
       "<Figure size 864x288 with 1 Axes>"
      ]
     },
     "metadata": {
      "needs_background": "light"
     },
     "output_type": "display_data"
    }
   ],
   "source": [
    "plt.figure(figsize=(12,4))\n",
    "train['sale_amount'].resample('2W').sum().plot()\n",
    "test['sale_amount'].resample('2W').sum().plot()\n",
    "plt.title('sale_amount')\n",
    "plt.ylabel('sale_amount')"
   ]
  },
  {
   "cell_type": "code",
   "execution_count": 14,
   "metadata": {},
   "outputs": [
    {
     "data": {
      "text/plain": [
       "Text(0, 0.5, 'item_price')"
      ]
     },
     "execution_count": 14,
     "metadata": {},
     "output_type": "execute_result"
    },
    {
     "data": {
      "image/png": "[encoded data removed]",
      "text/plain": [
       "<Figure size 864x288 with 1 Axes>"
      ]
     },
     "metadata": {
      "needs_background": "light"
     },
     "output_type": "display_data"
    }
   ],
   "source": [
    "plt.figure(figsize=(12,4))\n",
    "train['item_price'].resample('M').sum().plot()\n",
    "test['item_price'].resample('M').sum().plot()\n",
    "plt.title('item_price')\n",
    "plt.ylabel('item_price')"
   ]
  },
  {
   "cell_type": "code",
   "execution_count": 15,
   "metadata": {},
   "outputs": [],
   "source": [
    "df = df.groupby(['sale_date'])[['sale_amount','item_price']].sum()"
   ]
  },
  {
   "cell_type": "code",
   "execution_count": 16,
   "metadata": {},
   "outputs": [
    {
     "data": {
      "text/html": [
       "<div>\n",
       "<style scoped>\n",
       "    .dataframe tbody tr th:only-of-type {\n",
       "        vertical-align: middle;\n",
       "    }\n",
       "\n",
       "    .dataframe tbody tr th {\n",
       "        vertical-align: top;\n",
       "    }\n",
       "\n",
       "    .dataframe thead th {\n",
       "        text-align: right;\n",
       "    }\n",
       "</style>\n",
       "<table border=\"1\" class=\"dataframe\">\n",
       "  <thead>\n",
       "    <tr style=\"text-align: right;\">\n",
       "      <th></th>\n",
       "      <th>sale_amount</th>\n",
       "      <th>item_price</th>\n",
       "    </tr>\n",
       "    <tr>\n",
       "      <th>sale_date</th>\n",
       "      <th></th>\n",
       "      <th></th>\n",
       "    </tr>\n",
       "  </thead>\n",
       "  <tbody>\n",
       "    <tr>\n",
       "      <th>2013-01-01 00:00:00+00:00</th>\n",
       "      <td>5570.0</td>\n",
       "      <td>912.0</td>\n",
       "    </tr>\n",
       "    <tr>\n",
       "      <th>2013-01-02 00:00:00+00:00</th>\n",
       "      <td>5531.0</td>\n",
       "      <td>912.0</td>\n",
       "    </tr>\n",
       "    <tr>\n",
       "      <th>2013-01-03 00:00:00+00:00</th>\n",
       "      <td>5881.0</td>\n",
       "      <td>912.0</td>\n",
       "    </tr>\n",
       "    <tr>\n",
       "      <th>2013-01-04 00:00:00+00:00</th>\n",
       "      <td>6480.0</td>\n",
       "      <td>912.0</td>\n",
       "    </tr>\n",
       "    <tr>\n",
       "      <th>2013-01-05 00:00:00+00:00</th>\n",
       "      <td>6672.0</td>\n",
       "      <td>912.0</td>\n",
       "    </tr>\n",
       "    <tr>\n",
       "      <th>...</th>\n",
       "      <td>...</td>\n",
       "      <td>...</td>\n",
       "    </tr>\n",
       "    <tr>\n",
       "      <th>2017-12-27 00:00:00+00:00</th>\n",
       "      <td>8428.0</td>\n",
       "      <td>912.0</td>\n",
       "    </tr>\n",
       "    <tr>\n",
       "      <th>2017-12-28 00:00:00+00:00</th>\n",
       "      <td>9011.0</td>\n",
       "      <td>912.0</td>\n",
       "    </tr>\n",
       "    <tr>\n",
       "      <th>2017-12-29 00:00:00+00:00</th>\n",
       "      <td>9621.0</td>\n",
       "      <td>912.0</td>\n",
       "    </tr>\n",
       "    <tr>\n",
       "      <th>2017-12-30 00:00:00+00:00</th>\n",
       "      <td>10331.0</td>\n",
       "      <td>912.0</td>\n",
       "    </tr>\n",
       "    <tr>\n",
       "      <th>2017-12-31 00:00:00+00:00</th>\n",
       "      <td>10915.0</td>\n",
       "      <td>912.0</td>\n",
       "    </tr>\n",
       "  </tbody>\n",
       "</table>\n",
       "<p>1826 rows × 2 columns</p>\n",
       "</div>"
      ],
      "text/plain": [
       "                           sale_amount  item_price\n",
       "sale_date                                         \n",
       "2013-01-01 00:00:00+00:00       5570.0       912.0\n",
       "2013-01-02 00:00:00+00:00       5531.0       912.0\n",
       "2013-01-03 00:00:00+00:00       5881.0       912.0\n",
       "2013-01-04 00:00:00+00:00       6480.0       912.0\n",
       "2013-01-05 00:00:00+00:00       6672.0       912.0\n",
       "...                                ...         ...\n",
       "2017-12-27 00:00:00+00:00       8428.0       912.0\n",
       "2017-12-28 00:00:00+00:00       9011.0       912.0\n",
       "2017-12-29 00:00:00+00:00       9621.0       912.0\n",
       "2017-12-30 00:00:00+00:00      10331.0       912.0\n",
       "2017-12-31 00:00:00+00:00      10915.0       912.0\n",
       "\n",
       "[1826 rows x 2 columns]"
      ]
     },
     "execution_count": 16,
     "metadata": {},
     "output_type": "execute_result"
    }
   ],
   "source": [
    "df"
   ]
  },
  {
   "cell_type": "markdown",
   "metadata": {},
   "source": [
    "# Functions for Modeling"
   ]
  },
  {
   "cell_type": "code",
   "execution_count": 17,
   "metadata": {},
   "outputs": [],
   "source": [
    "def make_predictions():\n",
    "    yhat_df = pd.DataFrame({'sale_amount': [amount],\n",
    "                            'item_price': [price],\n",
    "                           }, index = train.index)\n",
    "    return yhat_df"
   ]
  },
  {
   "cell_type": "code",
   "execution_count": 18,
   "metadata": {},
   "outputs": [],
   "source": [
    "def evaluate(target_var):\n",
    "    rmse = round(sqrt(mean_squared_error(train[target_var], yhat_df[target_var])), 0)\n",
    "    return rmse"
   ]
  },
  {
   "cell_type": "code",
   "execution_count": 19,
   "metadata": {},
   "outputs": [],
   "source": [
    "def plot_and_eval(target_var):\n",
    "    plt.figure(figsize = (12,4))\n",
    "    plt.plot(train[target_var], label = 'Train', linewidth = 1)\n",
    "    plt.plot(yhat_df[target_var])\n",
    "    plt.title(target_var)\n",
    "    rmse = evaluate(target_var)\n",
    "    print(target_var, '-- RMSE: {:.0f}'.format(rmse))\n",
    "    plt.show()"
   ]
  },
  {
   "cell_type": "code",
   "execution_count": 20,
   "metadata": {},
   "outputs": [],
   "source": [
    "# Create the empty dataframe\n",
    "eval_df = pd.DataFrame(columns=['model_type', 'target_var', 'rmse'])\n",
    "\n",
    "# function to store rmse for comparison purposes\n",
    "def append_eval_df(model_type, target_var):\n",
    "    rmse = evaluate(target_var)\n",
    "    d = {'model_type': [model_type], 'target_var': [target_var], 'rmse': [rmse]}\n",
    "    d = pd.DataFrame(d)\n",
    "    return eval_df.append(d, ignore_index = True)"
   ]
  },
  {
   "cell_type": "markdown",
   "metadata": {},
   "source": [
    "## 2. Forecast, plot and evaluate using each of the 4 parametric based methods we discussed:\n",
    "- Simple Average\n",
    "- Moving Average\n",
    "- Holt's Linear Trend Model\n",
    "- Based on previous year/month/etc., this is up to you."
   ]
  },
  {
   "cell_type": "markdown",
   "metadata": {},
   "source": [
    "## simple average"
   ]
  },
  {
   "cell_type": "code",
   "execution_count": 21,
   "metadata": {},
   "outputs": [],
   "source": [
    "amount = round(train['sale_amount'].mean(), 2)\n",
    "price = round(train['item_price'].mean(), 2)"
   ]
  },
  {
   "cell_type": "code",
   "execution_count": 22,
   "metadata": {},
   "outputs": [],
   "source": [
    "yhat_df = make_predictions()"
   ]
  },
  {
   "cell_type": "code",
   "execution_count": 23,
   "metadata": {},
   "outputs": [
    {
     "data": {
      "text/html": [
       "<div>\n",
       "<style scoped>\n",
       "    .dataframe tbody tr th:only-of-type {\n",
       "        vertical-align: middle;\n",
       "    }\n",
       "\n",
       "    .dataframe tbody tr th {\n",
       "        vertical-align: top;\n",
       "    }\n",
       "\n",
       "    .dataframe thead th {\n",
       "        text-align: right;\n",
       "    }\n",
       "</style>\n",
       "<table border=\"1\" class=\"dataframe\">\n",
       "  <thead>\n",
       "    <tr style=\"text-align: right;\">\n",
       "      <th></th>\n",
       "      <th>sale_amount</th>\n",
       "      <th>item_price</th>\n",
       "    </tr>\n",
       "    <tr>\n",
       "      <th>sale_date</th>\n",
       "      <th></th>\n",
       "      <th></th>\n",
       "    </tr>\n",
       "  </thead>\n",
       "  <tbody>\n",
       "    <tr>\n",
       "      <th>2013-01-01 00:00:00+00:00</th>\n",
       "      <td>50.94</td>\n",
       "      <td>4.56</td>\n",
       "    </tr>\n",
       "    <tr>\n",
       "      <th>2013-01-01 00:00:00+00:00</th>\n",
       "      <td>50.94</td>\n",
       "      <td>4.56</td>\n",
       "    </tr>\n",
       "    <tr>\n",
       "      <th>2013-01-01 00:00:00+00:00</th>\n",
       "      <td>50.94</td>\n",
       "      <td>4.56</td>\n",
       "    </tr>\n",
       "  </tbody>\n",
       "</table>\n",
       "</div>"
      ],
      "text/plain": [
       "                           sale_amount  item_price\n",
       "sale_date                                         \n",
       "2013-01-01 00:00:00+00:00        50.94        4.56\n",
       "2013-01-01 00:00:00+00:00        50.94        4.56\n",
       "2013-01-01 00:00:00+00:00        50.94        4.56"
      ]
     },
     "execution_count": 23,
     "metadata": {},
     "output_type": "execute_result"
    }
   ],
   "source": [
    "yhat_df.head(3)"
   ]
  },
  {
   "cell_type": "code",
   "execution_count": 24,
   "metadata": {},
   "outputs": [
    {
     "name": "stdout",
     "output_type": "stream",
     "text": [
      "sale_amount -- RMSE: 28\n"
     ]
    },
    {
     "data": {
      "image/png": "[encoded data removed]",
      "text/plain": [
       "<Figure size 864x288 with 1 Axes>"
      ]
     },
     "metadata": {
      "needs_background": "light"
     },
     "output_type": "display_data"
    },
    {
     "name": "stdout",
     "output_type": "stream",
     "text": [
      "item_price -- RMSE: 3\n"
     ]
    },
    {
     "data": {
      "image/png": "[encoded data removed]",
      "text/plain": [
       "<Figure size 864x288 with 1 Axes>"
      ]
     },
     "metadata": {
      "needs_background": "light"
     },
     "output_type": "display_data"
    }
   ],
   "source": [
    "plot_and_eval('sale_amount')\n",
    "plot_and_eval('item_price')"
   ]
  },
  {
   "cell_type": "code",
   "execution_count": 25,
   "metadata": {},
   "outputs": [],
   "source": [
    "eval_df = append_eval_df('simple_average', 'sale_amount')\n",
    "eval_df = append_eval_df('simple_average', 'item_price')"
   ]
  },
  {
   "cell_type": "markdown",
   "metadata": {},
   "source": [
    "## Moving Average"
   ]
  },
  {
   "cell_type": "code",
   "execution_count": 26,
   "metadata": {},
   "outputs": [
    {
     "data": {
      "text/html": [
       "<div>\n",
       "<style scoped>\n",
       "    .dataframe tbody tr th:only-of-type {\n",
       "        vertical-align: middle;\n",
       "    }\n",
       "\n",
       "    .dataframe tbody tr th {\n",
       "        vertical-align: top;\n",
       "    }\n",
       "\n",
       "    .dataframe thead th {\n",
       "        text-align: right;\n",
       "    }\n",
       "</style>\n",
       "<table border=\"1\" class=\"dataframe\">\n",
       "  <thead>\n",
       "    <tr style=\"text-align: right;\">\n",
       "      <th></th>\n",
       "      <th>sale_amount</th>\n",
       "      <th>item_price</th>\n",
       "    </tr>\n",
       "    <tr>\n",
       "      <th>sale_date</th>\n",
       "      <th></th>\n",
       "      <th></th>\n",
       "    </tr>\n",
       "  </thead>\n",
       "  <tbody>\n",
       "    <tr>\n",
       "      <th>2013-01-01 00:00:00+00:00</th>\n",
       "      <td>74.57</td>\n",
       "      <td>3.62</td>\n",
       "    </tr>\n",
       "    <tr>\n",
       "      <th>2013-01-01 00:00:00+00:00</th>\n",
       "      <td>74.57</td>\n",
       "      <td>3.62</td>\n",
       "    </tr>\n",
       "    <tr>\n",
       "      <th>2013-01-01 00:00:00+00:00</th>\n",
       "      <td>74.57</td>\n",
       "      <td>3.62</td>\n",
       "    </tr>\n",
       "  </tbody>\n",
       "</table>\n",
       "</div>"
      ],
      "text/plain": [
       "                           sale_amount  item_price\n",
       "sale_date                                         \n",
       "2013-01-01 00:00:00+00:00        74.57        3.62\n",
       "2013-01-01 00:00:00+00:00        74.57        3.62\n",
       "2013-01-01 00:00:00+00:00        74.57        3.62"
      ]
     },
     "execution_count": 26,
     "metadata": {},
     "output_type": "execute_result"
    }
   ],
   "source": [
    "# compute a 14 day rolling average, for sale amount\n",
    "# compute a 30 day rolling average \n",
    "# use the most recent/last moving day period value to predict forward. \n",
    "\n",
    "period_amount = 14\n",
    "period_price = 30\n",
    "\n",
    "amount = round(train['sale_amount'].rolling(period_amount).mean().iloc[-1], 2)\n",
    "price = round(train['item_price'].rolling(period_price).mean().iloc[-1], 2)\n",
    "\n",
    "yhat_df = make_predictions()\n",
    "yhat_df.head(3)"
   ]
  },
  {
   "cell_type": "code",
   "execution_count": 27,
   "metadata": {},
   "outputs": [
    {
     "name": "stdout",
     "output_type": "stream",
     "text": [
      "sale_amount -- RMSE: 37\n"
     ]
    },
    {
     "data": {
      "image/png": "[encoded data removed]",
      "text/plain": [
       "<Figure size 864x288 with 1 Axes>"
      ]
     },
     "metadata": {
      "needs_background": "light"
     },
     "output_type": "display_data"
    },
    {
     "name": "stdout",
     "output_type": "stream",
     "text": [
      "item_price -- RMSE: 3\n"
     ]
    },
    {
     "data": {
      "image/png": "[encoded data removed]",
      "text/plain": [
       "<Figure size 864x288 with 1 Axes>"
      ]
     },
     "metadata": {
      "needs_background": "light"
     },
     "output_type": "display_data"
    }
   ],
   "source": [
    "plot_and_eval('sale_amount')\n",
    "plot_and_eval('item_price')"
   ]
  },
  {
   "cell_type": "code",
   "execution_count": 28,
   "metadata": {},
   "outputs": [],
   "source": [
    "eval_df = append_eval_df('moving_average', 'sale_amount')\n",
    "eval_df = append_eval_df('moving_average', 'item_price')"
   ]
  },
  {
   "cell_type": "markdown",
   "metadata": {},
   "source": [
    "# Full modeling done on Fitbit data in notebook titled Model_Fitbit.ipynb"
   ]
  }
 ],
 "metadata": {
  "kernelspec": {
   "display_name": "Python 3",
   "language": "python",
   "name": "python3"
  },
  "language_info": {
   "codemirror_mode": {
    "name": "ipython",
    "version": 3
   },
   "file_extension": ".py",
   "mimetype": "text/x-python",
   "name": "python",
   "nbconvert_exporter": "python",
   "pygments_lexer": "ipython3",
   "version": "3.7.6"
  }
 },
 "nbformat": 4,
 "nbformat_minor": 4
}
